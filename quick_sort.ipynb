{
 "cells": [
  {
   "cell_type": "code",
   "execution_count": 11,
   "metadata": {},
   "outputs": [],
   "source": [
    "###implementation of a quicksort algorithm\n",
    "\n",
    "#define function here\n",
    "def quick_sort(arr):\n",
    "    if(len(arr) < 2):           ##base case\n",
    "        return arr\n",
    "    else:                       #recursive case\n",
    "        #define pivot value\n",
    "        pivot = arr[0]\n",
    "        #get values lesser than the pivot value\n",
    "        lesser = [val for val in arr if val < pivot]\n",
    "        #get values greater than the pivot value\n",
    "        greater = [val for val in arr if val > pivot]\n",
    "        #return recursive quicksort\n",
    "        return quick_sort(lesser) + [pivot] + quick_sort(greater)"
   ]
  },
  {
   "cell_type": "code",
   "execution_count": 12,
   "metadata": {},
   "outputs": [
    {
     "name": "stdout",
     "output_type": "stream",
     "text": [
      "[1, 2, 3, 5, 6, 10, 21]\n"
     ]
    }
   ],
   "source": [
    "test_arr = [3, 6, 2, 10, 21, 1, 5]\n",
    "\n",
    "print(quick_sort(test_arr))"
   ]
  },
  {
   "cell_type": "code",
   "execution_count": null,
   "metadata": {},
   "outputs": [],
   "source": []
  }
 ],
 "metadata": {
  "kernelspec": {
   "display_name": "Python 3",
   "language": "python",
   "name": "python3"
  },
  "language_info": {
   "codemirror_mode": {
    "name": "ipython",
    "version": 3
   },
   "file_extension": ".py",
   "mimetype": "text/x-python",
   "name": "python",
   "nbconvert_exporter": "python",
   "pygments_lexer": "ipython3",
   "version": "3.5.2"
  },
  "widgets": {
   "state": {},
   "version": "1.1.2"
  }
 },
 "nbformat": 4,
 "nbformat_minor": 2
}
